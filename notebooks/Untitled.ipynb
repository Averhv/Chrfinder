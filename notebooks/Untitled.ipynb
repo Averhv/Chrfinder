{
 "cells": [
  {
   "cell_type": "code",
   "execution_count": null,
   "id": "0faeadde-a261-453d-92ef-76c2c6c0dbdd",
   "metadata": {},
   "outputs": [],
   "source": [
    "http://localhost:8888/lab?token=ddb1b4a120fc7e3e700f11752cb6ee98f1da0ff2c5f8dd76"
   ]
  }
 ],
 "metadata": {
  "kernelspec": {
   "display_name": "",
   "name": ""
  },
  "language_info": {
   "name": ""
  }
 },
 "nbformat": 4,
 "nbformat_minor": 5
}
