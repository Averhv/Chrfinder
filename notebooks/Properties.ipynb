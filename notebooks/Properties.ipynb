{
 "cells": [
  {
   "cell_type": "markdown",
   "id": "bb26af1d-96d2-4eec-94c9-1ce06df5d187",
   "metadata": {},
   "source": [
    "The following code just imports all the functions and packages necessary for the functionning of the functions"
   ]
  },
  {
   "cell_type": "code",
   "execution_count": 1,
   "id": "120dfaf4-35f3-4514-a02d-9e6a3d20ded4",
   "metadata": {},
   "outputs": [],
   "source": [
    "import sys\n",
    "import os\n",
    "\n",
    "src_path = os.path.abspath(os.path.join('..', 'src'))\n",
    "if src_path not in sys.path:\n",
    "    sys.path.insert(0, src_path)\n",
    "\n",
    "import tkinter as tk\n",
    "from tkinter import ttk\n",
    "from tkinter import messagebox\n",
    "import pandas as pd\n",
    "from pubchemprops import get_cid_by_name, get_first_layer_props, get_second_layer_props\n",
    "import urllib.error\n",
    "import urllib.parse\n",
    "from pka_lookup import pka_lookup_pubchem\n",
    "import re\n",
    "import json"
   ]
  },
  {
   "cell_type": "markdown",
   "id": "deab3619-a896-4aaa-b7f7-67e7725fa148",
   "metadata": {},
   "source": [
    "### <ins>The following code is part of the get_df_properties(mixture) function.</ins>\n",
    "\n",
    "This part of the code uses pubchempy to easily find most of the properties. It takes into arguments a list of compound's names. It will return a dictionnary for each compound with the following properties: 'CID', 'MolecularFormula', 'MolecularWeight', 'InChIKey', 'IUPACName', 'XLogP'."
   ]
  },
  {
   "cell_type": "code",
   "execution_count": 6,
   "id": "365cc9c9-9091-42d8-8f01-19a1752a1457",
   "metadata": {},
   "outputs": [
    {
     "name": "stdout",
     "output_type": "stream",
     "text": [
      "{'CID': 2519, 'MolecularFormula': 'C8H10N4O2', 'MolecularWeight': 194.19, 'InChIKey': 'RYYVLZVUVIJVGH-UHFFFAOYSA-N', 'IUPACName': '1,3,7-trimethylpurine-2,6-dione', 'XLogP': -0.1}\n",
      "{'CID': 134601, 'MolecularFormula': 'C14H18N2O5', 'MolecularWeight': 294.3, 'InChIKey': 'IAOZJIPTCAWIRG-QWRGUYRKSA-N', 'IUPACName': '(3S)-3-amino-4-[[(2S)-1-methoxy-1-oxo-3-phenylpropan-2-yl]amino]-4-oxobutanoic acid', 'XLogP': -2.7}\n",
      "{'CID': 11074431, 'MolecularFormula': 'C4H4KNO4S', 'MolecularWeight': 201.24, 'InChIKey': 'WBZFUFAFFUEMEI-UHFFFAOYSA-M', 'IUPACName': 'potassium;6-methyl-2,2-dioxo-1-oxa-2lambda6-thia-3-azanidacyclohex-5-en-4-one', 'XLogP': None}\n"
     ]
    }
   ],
   "source": [
    "compound_list = [\"caffeine\", \"Aspartame\", \"Acesulfame K\"]\n",
    "#Delete '#' for a list with a wrong name\n",
    "#compound_list = [\"Water\", \"Acetone\", \"Wrong name\"]\n",
    "\n",
    "\n",
    "for compound_name in compound_list:\n",
    "    compound_name_encoded = urllib.parse.quote(compound_name.strip())\n",
    "    try: \n",
    "        first_data = get_first_layer_props(compound_name_encoded, ['MolecularFormula', 'MolecularWeight', 'InChIKey', 'IUPACName', 'XLogP'])\n",
    "        compound_info = {}\n",
    "        for prop in ['CID', 'MolecularFormula', 'MolecularWeight', 'InChIKey', 'IUPACName', 'XLogP']:\n",
    "            if prop == 'MolecularWeight':\n",
    "                MolecularWeight_string = first_data.get(prop)\n",
    "                if MolecularWeight_string is not None:\n",
    "                    MolecularWeight_float = float(MolecularWeight_string)\n",
    "                    compound_info[prop] = MolecularWeight_float\n",
    "                else:\n",
    "                    compound_info[prop] = None\n",
    "            else:\n",
    "                compound_info[prop] = first_data.get(prop)\n",
    "    except urllib.error.HTTPError as e:\n",
    "        if e.code == 404:\n",
    "            print(f'{compound_name} not found on PubChem')\n",
    "        else:\n",
    "            print(f'An error occurred: {e}')\n",
    "    print(compound_info)"
   ]
  },
  {
   "cell_type": "markdown",
   "id": "de0c5deb-5b5c-4a50-aad5-126fada7b8ab",
   "metadata": {},
   "source": [
    "### <ins> Finding pka using Pubchem from InchiKey String</ins>\n",
    "\n",
    "Using the InchiKey String found by the function right before, the following function **returns the first pka found on PubChem as string**. This value, similary to the Boiling temperature, is a lot harder to find. This script uses a file of *Khoi Van* named **pka_lookup.py** which request the needed dictionnary of strings on PubChem. This means it takes **quite a while to find the string**, but creating a database is in scope. \n",
    "\n",
    "From the string found, this code extracts the pka_value from the dictionnary and returns the value as a string which will be converted in float in the function of Chrfinder.py."
   ]
  },
  {
   "cell_type": "code",
   "execution_count": 9,
   "id": "e6d02607-e384-4268-b2db-8cc44b73b67f",
   "metadata": {},
   "outputs": [
    {
     "name": "stdout",
     "output_type": "stream",
     "text": [
      "{'source': 'Pubchem', 'Pubchem_CID': '2519', 'pKa': '14', 'reference': 'https://www.sigmaaldrich.com/content/dam/sigma-aldrich/docs/Sigma-Aldrich/Product_Information_Sheet/c0750pis.pdf', 'Substance_CASRN': '58-08-2', 'Canonical_SMILES': 'CN1C=NC2=C1C(=O)N(C(=O)N2C)C', 'Isomeric_SMILES': 'CN1C=NC2=C1C(=O)N(C(=O)N2C)C', 'InChI': 'InChI=1S/C8H10N4O2/c1-10-4-9-6-5(10)7(13)12(3)8(14)11(6)2/h4H,1-3H3', 'InChIKey': 'RYYVLZVUVIJVGH-UHFFFAOYSA-N', 'IUPAC_Name': '1,3,7-trimethylpurine-2,6-dione'}\n"
     ]
    },
    {
     "data": {
      "text/plain": [
       "'14'"
      ]
     },
     "execution_count": 9,
     "metadata": {},
     "output_type": "execute_result"
    }
   ],
   "source": [
    "#inchikey of caffeine\n",
    "inchikey_string = 'RYYVLZVUVIJVGH-UHFFFAOYSA-N'\n",
    "\n",
    "def find_pka(inchikey_string):\n",
    "    text_pka = pka_lookup_pubchem(inchikey_string, \"inchikey\")\n",
    "    print(text_pka)\n",
    "    if text_pka is not None and 'pKa' in text_pka:\n",
    "            pKa_value = text_pka['pKa']\n",
    "            return pKa_value\n",
    "    else:\n",
    "        return None\n",
    "\n",
    "find_pka(inchikey_string)"
   ]
  },
  {
   "cell_type": "markdown",
   "id": "636bf52b-8cbd-4cd9-b4b5-2f24aa011ad5",
   "metadata": {},
   "source": [
    "### <ins> Finding Boiling Temperature using Pubchem from name</ins>\n",
    "\n",
    "Using the names of compound_list, the following function **returns the mean of the celsius and Fahrenheit Boiling Temperatures found on PubChem as float**. This value, similary to the Boiling temperature, is a lot harder to find. This script uses a file of *Maxim Shevelev* named **pubchemprops.py** which request the needed dictionnary of strings on PubChem. This means it takes **quite a while to find the string**, but creating a database is in scope. \n",
    "\n",
    "From the string_value in text_dict (extracted from PubChem), this code extracts all the boiling points from the dictionnary and returns the mean after converting Fahrenheit in celsius. The output is a float with 2 decimals."
   ]
  },
  {
   "cell_type": "code",
   "execution_count": 12,
   "id": "5f57c5d4-1261-4952-b3fb-4932d760c890",
   "metadata": {},
   "outputs": [
    {
     "name": "stdout",
     "output_type": "stream",
     "text": [
      "{'Boiling Point': [{'ReferenceNumber': 2, 'Reference': ['National Toxicology Program, Institute of Environmental Health Sciences, National Institutes of Health (NTP). 1992. National Toxicology Program Chemical Repository Database. Research Triangle Park, North Carolina.'], 'Value': {'StringWithMarkup': [{'String': '352 °F at 760 mmHg (sublimes) (NTP, 1992)'}]}}, {'ReferenceNumber': 24, 'Reference': ['http://www.inchem.org/documents/icsc/icsc/eics0405.htm'], 'Value': {'Number': [178]}}, {'ReferenceNumber': 51, 'Description': 'PEER REVIEWED', 'Reference': [\"O'Neil, M.J. (ed.). The Merck Index - An Encyclopedia of Chemicals, Drugs, and Biologicals. Cambridge, UK:  Royal Society of Chemistry, 2013., p. 289\"], 'Value': {'StringWithMarkup': [{'String': '178 °C (sublimes)'}]}}, {'ReferenceNumber': 71, 'Value': {'StringWithMarkup': [{'String': '178 °C (sublimes)'}]}}], 'Vapor Pressure': [{'ReferenceNumber': 49, 'Value': {'StringWithMarkup': [{'String': '0.00000001 [mmHg]'}]}}, {'ReferenceNumber': 51, 'Description': 'PEER REVIEWED', 'Reference': [\"Emel'yanenko VN, Verevkin SP; J Chem Thermodynamics 40: 1661-1665 (2008)\"], 'Value': {'StringWithMarkup': [{'String': '9.0X10-7 mm Hg at 25 °C /Extrapolated/'}]}}]}\n"
     ]
    },
    {
     "data": {
      "text/plain": [
       "177.93"
      ]
     },
     "execution_count": 12,
     "metadata": {},
     "output_type": "execute_result"
    }
   ],
   "source": [
    "def find_boiling_point(name):\n",
    "    text_dict = get_second_layer_props(str(name), ['Boiling Point', 'Vapor Pressure'])\n",
    "    Boiling_point_values = []\n",
    "    pattern_celsius = r'([-+]?\\d*\\.\\d+|\\d+) °C'\n",
    "    pattern_F = r'([-+]?\\d*\\.\\d+|\\d+) °F'\n",
    "\n",
    "    print(text_dict)\n",
    "    \n",
    "    for item in text_dict['Boiling Point']:\n",
    "        if 'Value' in item and 'StringWithMarkup' in item['Value']:\n",
    "            string_value = item['Value']['StringWithMarkup'][0]['String']\n",
    "\n",
    "            #Search for Celsius values, if found: adds to the list Boiling_point_values\n",
    "            match_celsius = re.search(pattern_celsius, string_value)\n",
    "            if match_celsius:\n",
    "                celsius = float(match_celsius.group(1))\n",
    "                Boiling_point_values.append(celsius)\n",
    "\n",
    "            #Search for Farenheit values, if found: converts farenheit to celsius before adding to the list Boiling_point_values\n",
    "            match_F = re.search(pattern_F, string_value)\n",
    "            if match_F:\n",
    "                fahrenheit_temp = float(match_F.group(1))\n",
    "                celsius_from_F = round(((fahrenheit_temp - 32) * (5/9)), 2)\n",
    "                Boiling_point_values.append(celsius_from_F)\n",
    "                \n",
    "    if Boiling_point_values:\n",
    "        Boiling_temp = round((sum(Boiling_point_values) / len(Boiling_point_values)), 2)\n",
    "    else:\n",
    "        Boiling_temp = None\n",
    "    return Boiling_temp\n",
    "\n",
    "find_boiling_point(\"Caffeine\")"
   ]
  }
 ],
 "metadata": {
  "kernelspec": {
   "display_name": "Python 3 (ipykernel)",
   "language": "python",
   "name": "python3"
  },
  "language_info": {
   "codemirror_mode": {
    "name": "ipython",
    "version": 3
   },
   "file_extension": ".py",
   "mimetype": "text/x-python",
   "name": "python",
   "nbconvert_exporter": "python",
   "pygments_lexer": "ipython3",
   "version": "3.10.13"
  }
 },
 "nbformat": 4,
 "nbformat_minor": 5
}
