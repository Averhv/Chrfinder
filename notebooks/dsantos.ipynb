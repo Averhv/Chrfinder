{
 "cells": [
  {
   "cell_type": "code",
   "execution_count": 23,
   "id": "4d1e3fe1-9bbe-45ed-9b95-17479802040f",
   "metadata": {},
   "outputs": [
    {
     "name": "stdout",
     "output_type": "stream",
     "text": [
      "Tipo di cromatografia consigliato per il miscuglio: GC\n"
     ]
    }
   ],
   "source": [
    "import pandas as pd\n",
    "\n",
    "# Creazione del DataFrame con le proprietà delle molecole\n",
    "data = {\n",
    "    'Molecola': ['M1', 'M2', 'M3', 'M4', 'M5'],\n",
    "    'Temp_Ebollizione (°C)': [350, 400, 310, 500, 400],\n",
    "    'pH': [6, 10, 2, 7, 9],\n",
    "    'Ionizzabile': [True, True, False, True, True]\n",
    "}\n",
    "\n",
    "df = pd.DataFrame(data)\n",
    "\n",
    "# Funzione per determinare il tipo di cromatografia appropriato per il miscuglio\n",
    "def determina_cromatografia(df):\n",
    "    # Controlla se tutte le temperature di ebollizione sono maggiori di 300°C\n",
    "    if df['Temp_Ebollizione (°C)'].min() >= 300:\n",
    "        tipo_cromatografia = 'GC'\n",
    "    else:\n",
    "        # Controlla se il pH è compreso tra 3 e 11\n",
    "        if df['pH'].between(3, 11).all():\n",
    "            # Controlla se tutte le molecole nel miscuglio sono ionizzabili\n",
    "            if df['Ionizzabile'].all():\n",
    "                tipo_cromatografia = 'IC'\n",
    "            else:\n",
    "                tipo_cromatografia = 'HPLC'\n",
    "        else:\n",
    "            tipo_cromatografia = 'HPLC'\n",
    "    \n",
    "    # Aggiunta per gestire il caso in cui tutte le molecole sono ionizzabili ma la temp. di ebollizione è < 300°C\n",
    "    if df['Ionizzabile'].all() and df['Temp_Ebollizione (°C)'].min() < 300:\n",
    "        tipo_cromatografia = 'IC'\n",
    "    \n",
    "    return tipo_cromatografia\n",
    "\n",
    "# Determina il tipo di cromatografia appropriato per il miscuglio\n",
    "tipo_cromatografia_miscuglio = determina_cromatografia(df)\n",
    "\n",
    "print(f\"Tipo di cromatografia consigliato per il miscuglio: {tipo_cromatografia_miscuglio}\")\n"
   ]
  },
  {
   "cell_type": "code",
   "execution_count": null,
   "id": "c1452259-da56-428d-9bec-6e75dd0d4948",
   "metadata": {},
   "outputs": [],
   "source": []
  }
 ],
 "metadata": {
  "kernelspec": {
   "display_name": "Python 3 (ipykernel)",
   "language": "python",
   "name": "python3"
  },
  "language_info": {
   "codemirror_mode": {
    "name": "ipython",
    "version": 3
   },
   "file_extension": ".py",
   "mimetype": "text/x-python",
   "name": "python",
   "nbconvert_exporter": "python",
   "pygments_lexer": "ipython3",
   "version": "3.10.13"
  }
 },
 "nbformat": 4,
 "nbformat_minor": 5
}
