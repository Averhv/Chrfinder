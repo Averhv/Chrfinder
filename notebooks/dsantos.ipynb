{
 "cells": [
  {
   "cell_type": "code",
   "execution_count": 2,
   "id": "1b3dfb9d-8de4-4be6-8fd7-b8d799f43a96",
   "metadata": {},
   "outputs": [
    {
     "name": "stdin",
     "output_type": "stream",
     "text": [
      "Eluent_pH:  16\n"
     ]
    },
    {
     "name": "stdout",
     "output_type": "stream",
     "text": [
      "The advisable chromatography type is: HPLC and IC not suitable for the specified pH\n"
     ]
    }
   ],
   "source": [
    "import pandas as pd\n",
    "\n",
    "data = {\n",
    "    'Mixture': ['Caf', 'Ace', 'Asp'],\n",
    "    'Boiling_temp_(°C)': [178, 332.7, 246],\n",
    "    'logP': [-0.07, -1.33, 0.07],\n",
    "    'pKa': [[14], [3.02], [1.83, 9.13]]\n",
    "}\n",
    "\n",
    "df = pd.DataFrame(data)\n",
    "\n",
    "def det_chromato(df, pH_eluent):\n",
    "    if df['Boiling_temp_(°C)'].min() >= 300:\n",
    "        Chromato_type = 'GC'\n",
    "    else:\n",
    "        if 3 <= pH_eluent <= 11:\n",
    "            lowest_pKa = df['pKa'].apply(min) # Find the lowest pKa for each molecule.\n",
    "            if lowest_pKa.max() < pH_eluent:\n",
    "                Chromato_type = 'IC'\n",
    "            elif df['logP'].min() >= 0: # logP > 0 => apolar molecule.\n",
    "                Chromato_type = 'HPLC on reverse stationary phase'\n",
    "            elif df['logP'].min() >= -2: # C18 (apolar) columns adapted for slightly polar molecules.\n",
    "                Chromato_type = 'HPLC on reverse stationary phase using C18 column'\n",
    "            else:\n",
    "                Chromato_type = 'HPLC on normal stationary phase'\n",
    "        else:\n",
    "            Chromato_type = 'HPLC and IC not suitable for the specified pH'\n",
    "    \n",
    "    return Chromato_type\n",
    "\n",
    "if df['Boiling_temp_(°C)'].min() >= 300:\n",
    "    Mixture_chromato_type = 'GC'\n",
    "else:\n",
    "    pH_eluent = float(input(\"Eluent_pH: \"))\n",
    "    Mixture_chromato_type = det_chromato(df, pH_eluent)\n",
    "\n",
    "print(f\"The advisable chromatography type is: {Mixture_chromato_type}\")\n"
   ]
  },
  {
   "cell_type": "code",
   "execution_count": null,
   "id": "6eca8db1-147b-4db7-97d4-4e66bdb8b178",
   "metadata": {},
   "outputs": [],
   "source": []
  }
 ],
 "metadata": {
  "kernelspec": {
   "display_name": "Python 3 (ipykernel)",
   "language": "python",
   "name": "python3"
  },
  "language_info": {
   "codemirror_mode": {
    "name": "ipython",
    "version": 3
   },
   "file_extension": ".py",
   "mimetype": "text/x-python",
   "name": "python",
   "nbconvert_exporter": "python",
   "pygments_lexer": "ipython3",
   "version": "3.10.13"
  }
 },
 "nbformat": 4,
 "nbformat_minor": 5
}
