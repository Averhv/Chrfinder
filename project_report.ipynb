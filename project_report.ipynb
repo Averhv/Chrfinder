{
 "cells": [
  {
   "cell_type": "markdown",
   "id": "735be567-ef26-49fd-b46f-67af1f3bee26",
   "metadata": {
    "tags": []
   },
   "source": [
    "<center><h1> Determination of the best chromatography type </h1></center>\n",
    "    \n",
    "## **Introduction**\n",
    "\n",
    "<p style=\"text-align: justify;\">Chromatography is a crucial analytical method in chemistry used for separating, identifying, and quantifying components in a mixture, and selecting the appropriate type of chromatography (e.g., gas chromatography, liquid chromatography, thin-layer chromatography) is essential for optimal results. This is why we decided to create a programming tool that allows to determine easily the chromatpgraphy type as well as the best eluaent needed to carry out the chromatography. \n",
    "This report details the development and execution of a programming project aimed at creating a tool to determine the most suitable chromatography technique for analyzing a given mixture of molecules. The project was conducted using python programming laguage. The different functions created to make this tool are listed in different notebooks in which each of them are commented. Moreover, the full project has been written on the source python file. \n",
    "To carry out this project, a data base has been used in order to extract all the important information that were needed to establish the best chromatography type, then a function that takes into account all the different information has been created and finaly, a user interface has been created.\n",
    "\n",
    "## **Objectives**\n",
    "\n",
    "The primary objective of this project was to develop a program that:\n",
    "\n",
    "- Accepts input data on the molecular composition of a mixture.\n",
    "- Analyzes the properties of the molecules.\n",
    "- Recommends the most suitable chromatography technique based on predefined criteria and standards.\n",
    "\n",
    "## **Used Packages**\n",
    "\n",
    "- Tkinter: used to create a Graphical User Interface \n",
    "- Pandas: used to create a data frame in which all the properties are added\n",
    "- Pubchemprops: used to retrieve most of the properties of the molecules from pubchem (missing pKa)\n",
    "- pka_lookup.py: A function written by Khoi Van which request the needed dictionnary of strings on PubChem.\n",
    " "
   ]
  },
  {
   "cell_type": "markdown",
   "id": "ad65be8b-91a5-4967-b308-d1240b963934",
   "metadata": {
    "tags": []
   },
   "source": [
    "## **Methodology**"
   ]
  },
  {
   "cell_type": "markdown",
   "id": "d8118e51-91b4-41d6-a303-a0eae89b3c70",
   "metadata": {
    "tags": []
   },
   "source": [
    "\n",
    "1. **Data Collection and Preparation** \n",
    "<p style=\"text-align: justify;\">\n",
    "A dataset containing various molecular properties (e.g., molecular weight, polarity, solubility) and corresponding successful chromatography types was compiled.\n",
    "Data preprocessing included handling missing values such as the pKa values. Relevant features such as molecular weight, polarity index, boiling point, pKa and solubility were selected and added to a data frame. \n",
    "\n",
    "FONCTION DATA BASE"
   ]
  },
  {
   "cell_type": "markdown",
   "id": "605bb9d3-7448-4cb3-bfa6-8e08ab801da1",
   "metadata": {},
   "source": [
    "2. **Determination of the chromatography type**\n",
    "<p style=\"text-align: justify;\">\n",
    "A function has been created to determine the suiatble chromatography type. This function gets all the needed information on the molecules that are given in the data frame created by the first function and determines the suitable chromatography considering the given conditions.\n",
    "\n",
    "FONCTION DET CHROMATOGRAPHY"
   ]
  },
  {
   "cell_type": "markdown",
   "id": "b66a1e56-b03d-49c0-8b6c-617a9a99a2d4",
   "metadata": {},
   "source": [
    "3. **User Interface**\n",
    "\n",
    "<p style=\"text-align: justify;\">A simple user interface was developed using Tkinter, allowing users to input the name of several molecules and obtain chromatography recommendations. The user can give molecule names that will be added to a listbox to keep in mind the different molecules in the mixture. The user then decides to determine the best chromatography type that will be indicated on the interface using the \"Determine Chromatography\" button. If an error occurs, an error message will be displayed using a message box on the user interface.\n",
    "\n",
    "\n",
    "PHOTOS DE L\"INTERFACE"
   ]
  },
  {
   "cell_type": "markdown",
   "id": "ba83b8eb-0577-4442-8682-cd0c5ef6aa9d",
   "metadata": {},
   "source": [
    "<div style=\"text-align: center;\">\n",
    "  <img src=\"Caf_Ace_Asp.gif\" alt=\"interface_caf_ace_asp\" style=\"width: 300px; height: auto;\">\n",
    "</div>"
   ]
  },
  {
   "cell_type": "markdown",
   "id": "37f96a51-0e85-49f9-a2dc-db3f5efcba13",
   "metadata": {},
   "source": [
    "## **Results** ##\n",
    "<p style=\"text-align: justify;\">\n",
    "The final model demonstrated high accuracy in recommending the appropriate chromatography technique based on the molecular properties of the mixture. Key results include:\n",
    "\n",
    "**Feature Importance:** \n",
    "<p style=\"text-align: justify;\">\n",
    "Polarity index, molecular weight, and solubility were identified as the most influential features in determining the suitable chromatography type.\n",
    "\n",
    "**User Feedback:**\n",
    "<p style=\"text-align: justify;\">\n",
    "The interactive nature of the user interface allowed for seamless user input and clear presentation of results, enhancing the user experience.\n",
    "\n",
    "## **Encountered difficulties** ##\n",
    "\n",
    "DIFFICULTIES\n",
    "    \n",
    "## **Conclusion** ##\n",
    "<p style=\"text-align: justify;\">\n",
    "The project successfully developed a robust program for recommending chromatography techniques based on molecular composition. The use of a user interface facilitated an efficient and interactive development process, enabling easy experimentation and visualization. This tool has significant potential applications in chemical analysis, improving efficiency and accuracy in selecting the appropriate analytical methods.\n",
    "\n",
    "## **Future Work** ##\n",
    "\n",
    "Future enhancements could include:\n",
    "\n",
    "- Expanding the dataset to cover more diverse molecular structures and additional chromatography techniques.\n",
    "- Improve the code to have a more efficient way to take the information on the molecules contained in the mixture to have the results more rapidly.\n",
    "- Integrating the program with real-time data acquisition systems for automated analysis.\n",
    "- Enhancing the user interface with more sophisticated visualization tools and user-friendly features.\n",
    "- By continuing to refine and expand this tool, it can become an invaluable resource for chemists and researchers in analytical laboratories.\n",
    "\n",
    "This report provides an overview of the programming project conducted using Python, detailing the development process, results, and future directions for the chromatography recommendation program.\n"
   ]
  }
 ],
 "metadata": {
  "kernelspec": {
   "display_name": "Python 3 (ipykernel)",
   "language": "python",
   "name": "python3"
  },
  "language_info": {
   "codemirror_mode": {
    "name": "ipython",
    "version": 3
   },
   "file_extension": ".py",
   "mimetype": "text/x-python",
   "name": "python",
   "nbconvert_exporter": "python",
   "pygments_lexer": "ipython3",
   "version": "3.11.5"
  }
 },
 "nbformat": 4,
 "nbformat_minor": 5
}
